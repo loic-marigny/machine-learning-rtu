{
 "cells": [
  {
   "cell_type": "markdown",
   "metadata": {
    "id": "beWG39yOBSwX"
   },
   "source": [
    "# **Practical assignment for Topic 4**"
   ]
  },
  {
   "cell_type": "markdown",
   "metadata": {
    "id": "BH7Us2a-NBiF"
   },
   "source": [
    "**Link to your finished ipynb file in Google Colab:** *put the link here*"
   ]
  },
  {
   "cell_type": "markdown",
   "metadata": {
    "id": "SsmR9jz5NTrZ"
   },
   "source": [
    "---"
   ]
  },
  {
   "cell_type": "markdown",
   "metadata": {
    "id": "DXJ9JhlAzOoB"
   },
   "source": [
    "In your assigmnet, you will use the following **data**:"
   ]
  },
  {
   "cell_type": "code",
   "execution_count": null,
   "metadata": {
    "id": "TYVKxAg1psvE"
   },
   "outputs": [],
   "source": [
    "import numpy as np\n",
    "X = np.array([-3.00, -2.54, -2.08, -1.62, -1.15, -0.69, -0.23,  0.23,  0.69,  1.15,  1.62,  2.08,  2.54,  3.00]).reshape(14, 1)\n",
    "y = np.array([ 2.60,  2.81,  3.49,  4.08,  3.30,  3.43,  4.59,  4.65,  4.79,  6.45,  7.58,  9.78, 12.98, 15.49]).reshape(14, 1)"
   ]
  },
  {
   "cell_type": "markdown",
   "metadata": {
    "id": "k2dJZV0Uxtq_"
   },
   "source": [
    "Your assignment consists of the following tasks:\n",
    "\n",
    "1. Create a total of eight polynomials from degree 1 to 8. Compute and print training MSE and validation MSE values for each of them. Validation MSE should be computed using LOOCV (use the function that we already created). Draw a plot with two curves analogous to the plot shown in slide 9 from today's lecture. Add a legend so that it is clear which curve is which.\n",
    "2. Repeat Task 1 with a modified LOOCV function so that it does not use anything from scikit-learn anymore - instead it should use only numpy. You should get the same result as in Task 1.\n",
    "3. Explain the plot from Task 1. What exactly do we see in it and what conclusions can we make from it?\n",
    "4. Draw another plot showing all datapoints of the given dataset together with the curves of all eight polynomials from degree 1 to 8. Each curve should be in a different color. Add a legend so that it is clear which curve is which.<br>\n",
    "4.a. Do the task using scikit-learn.<br>\n",
    "4.b. Do the task using numpy.\n",
    "\n",
    "*While doing the tasks you are allowed to use only those function libraries and only those functions of numpy and scikit-learn libraries that we already have used in our notebooks of the course.*\n",
    "\n",
    "**After the tasks are done, submit this file. Do not clear it's output - all print-outs and diagrams should be left in the file.**\n"
   ]
  },
  {
   "cell_type": "markdown",
   "metadata": {},
   "source": [
    "## Question 1."
   ]
  },
  {
   "cell_type": "markdown",
   "metadata": {},
   "source": [
    "LOOCV function that we created in class :"
   ]
  },
  {
   "cell_type": "code",
   "execution_count": null,
   "metadata": {},
   "outputs": [],
   "source": [
    "from sklearn.model_selection import LeaveOneOut\n",
    "from sklearn.metrics import mean_squared_error, r2_score\n",
    "loo = LeaveOneOut()\n",
    "def loocv(X, y, model):\n",
    "  loo = LeaveOneOut()  # define LOOCV\n",
    "\n",
    "  yHat = np.empty(y.size)  # this will be filled with predictions for us to compute scores after the loop\n",
    "\n",
    "  for train_idx, validation_idx in loo.split(X, y):  # loop through all folds\n",
    "    # from indices to actual data subsets\n",
    "    X_train = X[train_idx]\n",
    "    y_train = y[train_idx]\n",
    "    X_validation = X[validation_idx]\n",
    "    y_validation = y[validation_idx]\n",
    "\n",
    "    # train Linear Regression on training data\n",
    "    model.fit(X_train, y_train)\n",
    "\n",
    "    # do prediction on the one validation data point\n",
    "    yHat[validation_idx] = model.predict(X_validation)\n",
    "\n",
    "  MSE = mean_squared_error(y, yHat)\n",
    "  R2 = r2_score(y, yHat)\n",
    "\n",
    "  return MSE, R2"
   ]
  },
  {
   "cell_type": "markdown",
   "metadata": {},
   "source": [
    "Create a total of eight polynomials from degree 1 to 8. Compute and print training MSE and validation MSE values for each of them. Validation MSE should be computed using LOOCV."
   ]
  },
  {
   "cell_type": "code",
   "execution_count": null,
   "metadata": {},
   "outputs": [],
   "source": [
    "# Build polynomial models from degree 1 to 8 and evaluate them\n",
    "from sklearn.preprocessing import PolynomialFeatures\n",
    "from sklearn.linear_model import LinearRegression\n",
    "from sklearn.pipeline import Pipeline\n",
    "import matplotlib.pyplot as plt\n",
    "\n",
    "degrees = list(range(1, 9))\n",
    "train_mse = []\n",
    "val_mse = []\n",
    "\n",
    "for degree in degrees:\n",
    "    # Train on the full dataset to get the training MSE\n",
    "    full_model = Pipeline([\n",
    "        (\"poly\", PolynomialFeatures(degree=degree)),\n",
    "        (\"linreg\", LinearRegression())\n",
    "    ])\n",
    "    full_model.fit(X, y)\n",
    "    train_predictions = full_model.predict(X)\n",
    "    train_error = mean_squared_error(y, train_predictions)\n",
    "    train_mse.append(train_error)\n",
    "\n",
    "    # Use LOOCV to estimate validation MSE for the same degree\n",
    "    cv_model = Pipeline([\n",
    "        (\"poly\", PolynomialFeatures(degree=degree)),\n",
    "        (\"linreg\", LinearRegression())\n",
    "    ])\n",
    "    validation_error, _ = loocv(X, y, cv_model)\n",
    "    val_mse.append(validation_error)\n",
    "\n",
    "    print(f\"Degree {degree}: training MSE = {train_error:.4f}, validation MSE (LOOCV) = {validation_error:.4f}\")\n",
    "\n",
    "# Plot both curves so we can compare them\n",
    "plt.figure(figsize=(8, 5))\n",
    "plt.plot(degrees, train_mse, marker=\"o\", label=\"Training MSE\")\n",
    "plt.plot(degrees, val_mse, marker=\"o\", label=\"Validation MSE (LOOCV)\")\n",
    "plt.xlabel(\"Polynomial degree\")\n",
    "plt.ylabel(\"Mean Squared Error\")\n",
    "plt.xticks(degrees)\n",
    "plt.legend()\n",
    "plt.grid(True, linestyle=\"--\", alpha=0.5)\n",
    "plt.show()\n"
   ]
  }
 ],
 "metadata": {
  "colab": {
   "provenance": []
  },
  "kernelspec": {
   "display_name": "Python 3",
   "language": "python",
   "name": "python3"
  },
  "language_info": {
   "codemirror_mode": {
    "name": "ipython",
    "version": 3
   },
   "file_extension": ".py",
   "mimetype": "text/x-python",
   "name": "python",
   "nbconvert_exporter": "python",
   "pygments_lexer": "ipython3",
   "version": "3.7.4"
  }
 },
 "nbformat": 4,
 "nbformat_minor": 0
}